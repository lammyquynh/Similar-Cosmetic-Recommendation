{
 "cells": [
  {
   "cell_type": "markdown",
   "metadata": {
    "colab_type": "text",
    "id": "aFbxCHdYSsoi"
   },
   "source": [
    "## 1. Importing the libraries"
   ]
  },
  {
   "cell_type": "code",
   "execution_count": null,
   "metadata": {
    "colab": {},
    "colab_type": "code",
    "id": "83dLb1MKSsok"
   },
   "outputs": [],
   "source": [
    "# import libraries\n",
    "import pandas as pd\n",
    "import numpy as np\n",
    "import math as m\n",
    "from sklearn.metrics.pairwise import cosine_similarity\n",
    "\n",
    "from bokeh.io import show, curdoc, output_notebook, push_notebook\n",
    "from bokeh.plotting import figure\n",
    "from bokeh.models import ColumnDataSource, HoverTool, Select, Paragraph, TextInput\n",
    "from bokeh.layouts import widgetbox, column, row\n",
    "from ipywidgets import interact "
   ]
  },
  {
   "cell_type": "code",
   "execution_count": null,
   "metadata": {
    "colab": {
     "base_uri": "https://localhost:8080/",
     "height": 397
    },
    "colab_type": "code",
    "id": "crZ3yCWC1PXm",
    "outputId": "6c7796b1-0436-4a50-ba2a-62e8509053f0",
    "scrolled": true
   },
   "outputs": [],
   "source": [
    "df = pd.read_csv('data/cosmetic_TSNE.csv')\n",
    "df.head()"
   ]
  },
  {
   "cell_type": "code",
   "execution_count": null,
   "metadata": {},
   "outputs": [],
   "source": [
    "df.columns"
   ]
  },
  {
   "cell_type": "code",
   "execution_count": null,
   "metadata": {
    "colab": {
     "base_uri": "https://localhost:8080/",
     "height": 235
    },
    "colab_type": "code",
    "id": "EFY5a6TzSso0",
    "outputId": "a2dcab65-60d4-4dbb-de8f-5050a9720a75"
   },
   "outputs": [],
   "source": [
    "# the 30 different combinations of options\n",
    "df.Label.unique()"
   ]
  },
  {
   "cell_type": "code",
   "execution_count": null,
   "metadata": {
    "colab": {
     "base_uri": "https://localhost:8080/",
     "height": 235
    },
    "colab_type": "code",
    "id": "EFY5a6TzSso0",
    "outputId": "a2dcab65-60d4-4dbb-de8f-5050a9720a75"
   },
   "outputs": [],
   "source": [
    "# cosmetic filtering options \n",
    "option_1 = ['Moisturizer', 'Cleanser', 'Treatment', 'Face Mask', 'Eye cream', 'Sun protect']\n",
    "option_2 = ['Combination', 'Dry', 'Normal', 'Oily', 'Sensitive']"
   ]
  },
  {
   "cell_type": "markdown",
   "metadata": {
    "colab_type": "text",
    "id": "MuancOunSso7"
   },
   "source": [
    "## 2. Mapping with Bokeh"
   ]
  },
  {
   "cell_type": "code",
   "execution_count": null,
   "metadata": {
    "colab": {
     "base_uri": "https://localhost:8080/",
     "height": 47
    },
    "colab_type": "code",
    "id": "FpLxrsdpSso9",
    "outputId": "da7c7e9e-549b-42f5-91fb-f84010c08686"
   },
   "outputs": [],
   "source": [
    "output_notebook()"
   ]
  },
  {
   "cell_type": "code",
   "execution_count": null,
   "metadata": {
    "colab": {},
    "colab_type": "code",
    "id": "0S5Ju8pQSspD"
   },
   "outputs": [],
   "source": [
    "# make a source and scatter bokeh plot  \n",
    "source = ColumnDataSource(df)\n",
    "plot = figure(x_axis_label = 'T-SNE 1', y_axis_label = 'T-SNE 2', \n",
    "              width = 500, height = 400)\n",
    "plot.circle(x = 'X', y = 'Y', source = source, \n",
    "            size = 10, color = '#FF7373', alpha = .8)\n",
    "\n",
    "plot.background_fill_color = \"beige\"\n",
    "plot.background_fill_alpha = 0.2\n",
    "\n",
    "# add hover tool\n",
    "hover = HoverTool(tooltips = [\n",
    "        ('Item', '@name'),\n",
    "        ('brand', '@brand'),\n",
    "        ('Price', '$ @price'),\n",
    "        ('Rank', '@rank')])\n",
    "plot.add_tools(hover)"
   ]
  },
  {
   "cell_type": "code",
   "execution_count": null,
   "metadata": {
    "colab": {},
    "colab_type": "code",
    "id": "MZKutfE6SspK"
   },
   "outputs": [],
   "source": [
    "# define the callback\n",
    "def update(op1 = option_1[0], op2 = option_2[0]):\n",
    "    a_b = op1 + '_' + op2\n",
    "    new_data = {\n",
    "        'X' : df[df['Label'] == a_b]['X'],\n",
    "        'Y' : df[df['Label'] == a_b]['Y'],\n",
    "        'name' : df[df['Label'] == a_b]['name'],\n",
    "        'brand' : df[df['Label'] == a_b]['brand'],\n",
    "        'price' : df[df['Label'] == a_b]['price'],\n",
    "        'rank' : df[df['Label'] == a_b]['rank'],\n",
    "    }\n",
    "    source.data = new_data\n",
    "    push_notebook()    "
   ]
  },
  {
   "cell_type": "code",
   "execution_count": null,
   "metadata": {
    "colab": {},
    "colab_type": "code",
    "id": "MZKutfE6SspK"
   },
   "outputs": [],
   "source": [
    "# interact the plot with callback \n",
    "output_notebook()\n",
    "\n",
    "interact(update, op1 = option_1, op2 = option_2)\n",
    "show(plot, notebook_handle = True)"
   ]
  },
  {
   "cell_type": "markdown",
   "metadata": {
    "colab_type": "text",
    "id": "fr49DdTASspX"
   },
   "source": [
    "# 3. Cosine similarity"
   ]
  },
  {
   "cell_type": "markdown",
   "metadata": {
    "colab_type": "text",
    "id": "mSRxcjv7SspY"
   },
   "source": [
    "Myitem is [Peat Miracle Revital Cream](https://www.sephora.com/product/peat-miracle-revital-cream-P412440)"
   ]
  },
  {
   "cell_type": "code",
   "execution_count": null,
   "metadata": {
    "colab": {
     "base_uri": "https://localhost:8080/",
     "height": 77
    },
    "colab_type": "code",
    "id": "8Lio8LDnSspZ",
    "outputId": "25aea4e3-95db-4484-c0bc-7a4bffe11605"
   },
   "outputs": [],
   "source": [
    "df_2 = df[df.Label == 'Moisturizer_Dry'].reset_index().drop('index', axis = 1)\n",
    "df_2['dist'] = 0.0\n",
    "\n",
    "myItem = df_2[df_2.name.str.contains('Peat Miracle Revital')]\n",
    "myItem"
   ]
  },
  {
   "cell_type": "code",
   "execution_count": null,
   "metadata": {
    "colab": {
     "base_uri": "https://localhost:8080/",
     "height": 34
    },
    "colab_type": "code",
    "id": "5iDC0uwiSspk",
    "outputId": "64a7b885-f6bd-4e26-dbfe-d8d2ac0695cf"
   },
   "outputs": [],
   "source": [
    "# getting the array for myItem\n",
    "P1 = np.array([myItem.X.values, myItem.Y.values]).reshape(1, -1)\n",
    "P1"
   ]
  },
  {
   "cell_type": "code",
   "execution_count": null,
   "metadata": {
    "colab": {
     "base_uri": "https://localhost:8080/",
     "height": 134
    },
    "colab_type": "code",
    "id": "XtnCd_pH136C",
    "outputId": "8d01bb5a-ea65-412a-b856-3336a702ee65"
   },
   "outputs": [],
   "source": [
    "# cosine similarities with other items\n",
    "for i in range(len(df_2)):\n",
    "    P2 = np.array([df_2['X'][i], df_2['Y'][i]]).reshape(-1, 1)\n",
    "    #print((P1 * P2).sum() / np.sum(abs(P1))*np.sum(abs(P2)))\n",
    "    #break\n",
    "    df_2[\"dist\"].iloc[i]  = abs(((P1 * P2).sum() / np.sum(abs(P1))*np.sum(abs(P2))))\n",
    "    #print((P1 * P2).sum() / (np.sum(abs(P1)))*(np.sum(abs(P2)))\n",
    "    #df_2.dist = (P1 * P2).sum() / (abs(np.sum(P1))*abs(np.sum(P2)))\n",
    "    #print((P1 * P2).sum() / np.sum(abs(P1))*np.sum(abs(P2)) )\n"
   ]
  },
  {
   "cell_type": "code",
   "execution_count": null,
   "metadata": {
    "colab": {
     "base_uri": "https://localhost:8080/",
     "height": 195
    },
    "colab_type": "code",
    "id": "Ddfjhl1MSsps",
    "outputId": "68613874-7406-40a9-d1ec-2f9be00df669"
   },
   "outputs": [],
   "source": [
    "#Top 5 closest cosmetic items like below.\n",
    "df_2 = df_2.sort_values('dist')\n",
    "df_2[['name', 'brand', 'dist']].head(5)"
   ]
  },
  {
   "cell_type": "code",
   "execution_count": null,
   "metadata": {},
   "outputs": [],
   "source": [
    "#Top 5 the worst choice\n",
    "df_2 = df_2.sort_values('dist',ascending=False)\n",
    "df_2[['name', 'brand', 'dist','rank']].head(5)"
   ]
  }
 ],
 "metadata": {
  "colab": {
   "include_colab_link": true,
   "name": "Copy of Copy of cosmtic_map.ipynb",
   "provenance": [],
   "toc_visible": true,
   "version": "0.3.2"
  },
  "interpreter": {
   "hash": "01a9b83c0fa5789642d379965aad20019c5108ac2530a717c8051db76755ce80"
  },
  "kernelspec": {
   "display_name": "Python 3.10.4 64-bit",
   "language": "python",
   "name": "python3"
  },
  "language_info": {
   "codemirror_mode": {
    "name": "ipython",
    "version": 3
   },
   "file_extension": ".py",
   "mimetype": "text/x-python",
   "name": "python",
   "nbconvert_exporter": "python",
   "pygments_lexer": "ipython3",
   "version": "3.10.4"
  }
 },
 "nbformat": 4,
 "nbformat_minor": 1
}
